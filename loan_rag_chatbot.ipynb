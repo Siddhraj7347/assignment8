{
 "cells": [
  {
   "metadata": {},
   "cell_type": "markdown",
   "source": "🔧 Cell 1: Install Required Packages",
   "id": "b01295b7bc3da6af"
  },
  {
   "cell_type": "code",
   "id": "initial_id",
   "metadata": {
    "collapsed": true,
    "ExecuteTime": {
     "end_time": "2025-07-13T07:59:57.052256Z",
     "start_time": "2025-07-13T07:59:54.715425Z"
    }
   },
   "source": [
    "# 📦 Install dependencies (only once)\n",
    "!pip install openai pandas faiss-cpu sentence-transformers kagglehub ipywidgets --quiet\n"
   ],
   "outputs": [
    {
     "name": "stderr",
     "output_type": "stream",
     "text": [
      "\n",
      "[notice] A new release of pip is available: 25.0.1 -> 25.1.1\n",
      "[notice] To update, run: python.exe -m pip install --upgrade pip\n"
     ]
    }
   ],
   "execution_count": 1
  },
  {
   "metadata": {
    "ExecuteTime": {
     "end_time": "2025-07-13T08:11:02.382451Z",
     "start_time": "2025-07-13T08:10:55.818387Z"
    }
   },
   "cell_type": "code",
   "source": "!python -m pip install --upgrade pip\n",
   "id": "6dce5eeb4c16ee5",
   "outputs": [
    {
     "name": "stdout",
     "output_type": "stream",
     "text": [
      "Requirement already satisfied: pip in c:\\users\\siddh\\pycharmprojects\\assignment8\\.venv\\lib\\site-packages (25.0.1)\n",
      "Collecting pip\n",
      "  Using cached pip-25.1.1-py3-none-any.whl.metadata (3.6 kB)\n",
      "Using cached pip-25.1.1-py3-none-any.whl (1.8 MB)\n",
      "Installing collected packages: pip\n",
      "  Attempting uninstall: pip\n",
      "    Found existing installation: pip 25.0.1\n",
      "    Uninstalling pip-25.0.1:\n",
      "      Successfully uninstalled pip-25.0.1\n",
      "Successfully installed pip-25.1.1\n"
     ]
    }
   ],
   "execution_count": 22
  },
  {
   "metadata": {},
   "cell_type": "markdown",
   "source": "🧠 Cell 2: Import Libraries",
   "id": "fc8f8cc07a83638b"
  },
  {
   "metadata": {
    "ExecuteTime": {
     "end_time": "2025-07-13T08:00:14.324014Z",
     "start_time": "2025-07-13T08:00:03.649457Z"
    }
   },
   "cell_type": "code",
   "source": [
    "# 🧠 Import core libraries\n",
    "import os\n",
    "import warnings\n",
    "import pandas as pd\n",
    "import numpy as np\n",
    "import openai\n",
    "import faiss\n",
    "import kagglehub\n",
    "from sentence_transformers import SentenceTransformer\n",
    "from IPython.display import display, Markdown\n",
    "\n",
    "# Disable HuggingFace symlink warnings\n",
    "os.environ[\"HF_HUB_DISABLE_SYMLINKS_WARNING\"] = \"1\"\n",
    "warnings.filterwarnings(\"ignore\", category=UserWarning, module='tqdm')\n"
   ],
   "id": "84bf3eedb7437736",
   "outputs": [],
   "execution_count": 2
  },
  {
   "metadata": {},
   "cell_type": "markdown",
   "source": "🔐 Cell 3: Load OpenAI API Key",
   "id": "d8c4bad4ac00cafa"
  },
  {
   "metadata": {
    "ExecuteTime": {
     "end_time": "2025-07-13T08:35:35.863140Z",
     "start_time": "2025-07-13T08:35:35.845800Z"
    }
   },
   "cell_type": "code",
   "source": [
    "import openai\n",
    "\n",
    "# ✅ Direct assignment of API key\n",
    "openai.api_key = \"a06bc67fafcc0223852ae467c341b4ab\"\n",
    "\n",
    "# Optional: test it's working\n",
    "\n"
   ],
   "id": "711b5f672a983ec6",
   "outputs": [],
   "execution_count": 39
  },
  {
   "metadata": {},
   "cell_type": "markdown",
   "source": "📂 Cell 4: Load Dataset from Kaggle",
   "id": "b50f12edbb855f7a"
  },
  {
   "metadata": {
    "ExecuteTime": {
     "end_time": "2025-07-13T08:14:23.365564Z",
     "start_time": "2025-07-13T08:14:21.944919Z"
    }
   },
   "cell_type": "code",
   "source": [
    "# 📂 Download and load Kaggle dataset\n",
    "dataset_path = kagglehub.dataset_download(\"sonalisingh1411/loan-approval-prediction\")\n",
    "csv_file = os.path.join(dataset_path, \"Training Dataset.csv\")\n",
    "\n",
    "df = pd.read_csv(csv_file)\n",
    "df.dropna(inplace=True)\n",
    "df.reset_index(drop=True, inplace=True)\n",
    "df.head()\n"
   ],
   "id": "ce6c27d83c0c7af7",
   "outputs": [
    {
     "data": {
      "text/plain": [
       "    Loan_ID Gender Married Dependents     Education Self_Employed  \\\n",
       "0  LP001003   Male     Yes          1      Graduate            No   \n",
       "1  LP001005   Male     Yes          0      Graduate           Yes   \n",
       "2  LP001006   Male     Yes          0  Not Graduate            No   \n",
       "3  LP001008   Male      No          0      Graduate            No   \n",
       "4  LP001011   Male     Yes          2      Graduate           Yes   \n",
       "\n",
       "   ApplicantIncome  CoapplicantIncome  LoanAmount  Loan_Amount_Term  \\\n",
       "0             4583             1508.0       128.0             360.0   \n",
       "1             3000                0.0        66.0             360.0   \n",
       "2             2583             2358.0       120.0             360.0   \n",
       "3             6000                0.0       141.0             360.0   \n",
       "4             5417             4196.0       267.0             360.0   \n",
       "\n",
       "   Credit_History Property_Area Loan_Status  \n",
       "0             1.0         Rural           N  \n",
       "1             1.0         Urban           Y  \n",
       "2             1.0         Urban           Y  \n",
       "3             1.0         Urban           Y  \n",
       "4             1.0         Urban           Y  "
      ],
      "text/html": [
       "<div>\n",
       "<style scoped>\n",
       "    .dataframe tbody tr th:only-of-type {\n",
       "        vertical-align: middle;\n",
       "    }\n",
       "\n",
       "    .dataframe tbody tr th {\n",
       "        vertical-align: top;\n",
       "    }\n",
       "\n",
       "    .dataframe thead th {\n",
       "        text-align: right;\n",
       "    }\n",
       "</style>\n",
       "<table border=\"1\" class=\"dataframe\">\n",
       "  <thead>\n",
       "    <tr style=\"text-align: right;\">\n",
       "      <th></th>\n",
       "      <th>Loan_ID</th>\n",
       "      <th>Gender</th>\n",
       "      <th>Married</th>\n",
       "      <th>Dependents</th>\n",
       "      <th>Education</th>\n",
       "      <th>Self_Employed</th>\n",
       "      <th>ApplicantIncome</th>\n",
       "      <th>CoapplicantIncome</th>\n",
       "      <th>LoanAmount</th>\n",
       "      <th>Loan_Amount_Term</th>\n",
       "      <th>Credit_History</th>\n",
       "      <th>Property_Area</th>\n",
       "      <th>Loan_Status</th>\n",
       "    </tr>\n",
       "  </thead>\n",
       "  <tbody>\n",
       "    <tr>\n",
       "      <th>0</th>\n",
       "      <td>LP001003</td>\n",
       "      <td>Male</td>\n",
       "      <td>Yes</td>\n",
       "      <td>1</td>\n",
       "      <td>Graduate</td>\n",
       "      <td>No</td>\n",
       "      <td>4583</td>\n",
       "      <td>1508.0</td>\n",
       "      <td>128.0</td>\n",
       "      <td>360.0</td>\n",
       "      <td>1.0</td>\n",
       "      <td>Rural</td>\n",
       "      <td>N</td>\n",
       "    </tr>\n",
       "    <tr>\n",
       "      <th>1</th>\n",
       "      <td>LP001005</td>\n",
       "      <td>Male</td>\n",
       "      <td>Yes</td>\n",
       "      <td>0</td>\n",
       "      <td>Graduate</td>\n",
       "      <td>Yes</td>\n",
       "      <td>3000</td>\n",
       "      <td>0.0</td>\n",
       "      <td>66.0</td>\n",
       "      <td>360.0</td>\n",
       "      <td>1.0</td>\n",
       "      <td>Urban</td>\n",
       "      <td>Y</td>\n",
       "    </tr>\n",
       "    <tr>\n",
       "      <th>2</th>\n",
       "      <td>LP001006</td>\n",
       "      <td>Male</td>\n",
       "      <td>Yes</td>\n",
       "      <td>0</td>\n",
       "      <td>Not Graduate</td>\n",
       "      <td>No</td>\n",
       "      <td>2583</td>\n",
       "      <td>2358.0</td>\n",
       "      <td>120.0</td>\n",
       "      <td>360.0</td>\n",
       "      <td>1.0</td>\n",
       "      <td>Urban</td>\n",
       "      <td>Y</td>\n",
       "    </tr>\n",
       "    <tr>\n",
       "      <th>3</th>\n",
       "      <td>LP001008</td>\n",
       "      <td>Male</td>\n",
       "      <td>No</td>\n",
       "      <td>0</td>\n",
       "      <td>Graduate</td>\n",
       "      <td>No</td>\n",
       "      <td>6000</td>\n",
       "      <td>0.0</td>\n",
       "      <td>141.0</td>\n",
       "      <td>360.0</td>\n",
       "      <td>1.0</td>\n",
       "      <td>Urban</td>\n",
       "      <td>Y</td>\n",
       "    </tr>\n",
       "    <tr>\n",
       "      <th>4</th>\n",
       "      <td>LP001011</td>\n",
       "      <td>Male</td>\n",
       "      <td>Yes</td>\n",
       "      <td>2</td>\n",
       "      <td>Graduate</td>\n",
       "      <td>Yes</td>\n",
       "      <td>5417</td>\n",
       "      <td>4196.0</td>\n",
       "      <td>267.0</td>\n",
       "      <td>360.0</td>\n",
       "      <td>1.0</td>\n",
       "      <td>Urban</td>\n",
       "      <td>Y</td>\n",
       "    </tr>\n",
       "  </tbody>\n",
       "</table>\n",
       "</div>"
      ]
     },
     "execution_count": 29,
     "metadata": {},
     "output_type": "execute_result"
    }
   ],
   "execution_count": 29
  },
  {
   "metadata": {},
   "cell_type": "markdown",
   "source": "📄 Cell 5: Format Dataset into Text Documents",
   "id": "457ef5bcdfbf142f"
  },
  {
   "metadata": {
    "ExecuteTime": {
     "end_time": "2025-07-13T08:14:25.782833Z",
     "start_time": "2025-07-13T08:14:25.748288Z"
    }
   },
   "cell_type": "code",
   "source": [
    "# 📄 Convert each row into a plain-text document\n",
    "documents = []\n",
    "for idx, row in df.iterrows():\n",
    "    doc = \"\\n\".join([f\"{col}: {row[col]}\" for col in df.columns])\n",
    "    documents.append(doc)\n"
   ],
   "id": "25a56105ddad6766",
   "outputs": [],
   "execution_count": 30
  },
  {
   "metadata": {},
   "cell_type": "markdown",
   "source": "🧬 Cell 6: Embed Documents using SentenceTransformer",
   "id": "ac0723b92e4d6bbf"
  },
  {
   "metadata": {
    "ExecuteTime": {
     "end_time": "2025-07-13T08:14:40.128491Z",
     "start_time": "2025-07-13T08:14:28.264315Z"
    }
   },
   "cell_type": "code",
   "source": [
    "# 🧬 Load embedding model and encode documents\n",
    "model = SentenceTransformer(\"sentence-transformers/all-MiniLM-L6-v2\")\n",
    "embeddings = model.encode(documents, show_progress_bar=True)\n"
   ],
   "id": "ebe696b29fe793c6",
   "outputs": [
    {
     "data": {
      "text/plain": [
       "Batches:   0%|          | 0/15 [00:00<?, ?it/s]"
      ],
      "application/vnd.jupyter.widget-view+json": {
       "version_major": 2,
       "version_minor": 0,
       "model_id": "2c84489085204a7ebeb94b2a612ca75d"
      }
     },
     "metadata": {},
     "output_type": "display_data"
    }
   ],
   "execution_count": 31
  },
  {
   "metadata": {},
   "cell_type": "markdown",
   "source": "📊 Cell 7: Create FAISS Index",
   "id": "be8042ad66cc396"
  },
  {
   "metadata": {
    "ExecuteTime": {
     "end_time": "2025-07-13T08:14:45.821940Z",
     "start_time": "2025-07-13T08:14:45.809528Z"
    }
   },
   "cell_type": "code",
   "source": [
    "# 📊 Build FAISS vector index\n",
    "dimension = embeddings.shape[1]\n",
    "index = faiss.IndexFlatL2(dimension)\n",
    "index.add(np.array(embeddings))\n"
   ],
   "id": "843c65d7539b6ce7",
   "outputs": [],
   "execution_count": 32
  },
  {
   "metadata": {},
   "cell_type": "markdown",
   "source": "🔍 Cell 8: Define Retrieval Function",
   "id": "e5ad7cf146996805"
  },
  {
   "metadata": {
    "ExecuteTime": {
     "end_time": "2025-07-13T08:14:47.485988Z",
     "start_time": "2025-07-13T08:14:47.481213Z"
    }
   },
   "cell_type": "code",
   "source": [
    "# 🔍 Retrieve top-k similar documents\n",
    "def retrieve(query, k=3):\n",
    "    query_vec = model.encode([query])\n",
    "    distances, indices = index.search(np.array(query_vec), k)\n",
    "    return [documents[i] for i in indices[0]]\n"
   ],
   "id": "8691a37b7f687a21",
   "outputs": [],
   "execution_count": 33
  },
  {
   "metadata": {},
   "cell_type": "markdown",
   "source": "💬 Cell 9: Generate Answer from OpenAI",
   "id": "31013193ca06083c"
  },
  {
   "metadata": {
    "ExecuteTime": {
     "end_time": "2025-07-13T08:35:43.425161Z",
     "start_time": "2025-07-13T08:35:43.185816Z"
    }
   },
   "cell_type": "code",
   "source": [
    "from openai import OpenAI\n",
    "\n",
    "# Create a client instance once (do this outside the function if possible)\n",
    "client = OpenAI(api_key = \"a06bc67fafcc0223852ae467c341b4ab\")  # Replace with your actual API key\n",
    "\n",
    "# 💬 Generate a natural language answer from retrieved context\n",
    "def generate_answer(question):\n",
    "    context = \"\\n\\n\".join(retrieve(question))\n",
    "    messages = [\n",
    "        {\n",
    "            \"role\": \"system\",\n",
    "            \"content\": \"You are a helpful assistant answering loan-related queries based on the following applicant data.\"\n",
    "        },\n",
    "        {\n",
    "            \"role\": \"user\",\n",
    "            \"content\": f\"Context:\\n{context}\\n\\nQuestion:\\n{question}\"\n",
    "        }\n",
    "    ]\n",
    "    try:\n",
    "        res = client.chat.completions.create(\n",
    "            model=\"gpt-3.5-turbo\",\n",
    "            messages=messages,\n",
    "            temperature=0.3\n",
    "        )\n",
    "        return res.choices[0].message.content\n",
    "    except Exception as e:\n",
    "        return f\"Error from OpenAI: {e}\"\n"
   ],
   "id": "b29838bafd075f1c",
   "outputs": [],
   "execution_count": 40
  },
  {
   "metadata": {},
   "cell_type": "markdown",
   "source": "🧾 Cell 10: Ask Questions and Display Answers",
   "id": "203fb605753cbd69"
  },
  {
   "metadata": {
    "ExecuteTime": {
     "end_time": "2025-07-13T08:35:46.115583Z",
     "start_time": "2025-07-13T08:35:46.105151Z"
    }
   },
   "cell_type": "code",
   "source": [
    "# 🧾 Ask a question and view the response in Markdown\n",
    "def ask(question):\n",
    "    answer = generate_answer(question)\n",
    "    display(Markdown(f\"**Q:** {question}\\n\\n**A:** {answer}\"))\n"
   ],
   "id": "dde7b7e11f517341",
   "outputs": [],
   "execution_count": 41
  },
  {
   "metadata": {},
   "cell_type": "markdown",
   "source": "🧪 Cell 11: Example Questions to Try",
   "id": "c9a39b0d2f3fcede"
  },
  {
   "metadata": {
    "ExecuteTime": {
     "end_time": "2025-07-13T08:35:49.132923Z",
     "start_time": "2025-07-13T08:35:47.700043Z"
    }
   },
   "cell_type": "code",
   "source": [
    "# 🧪 Try asking some questions\n",
    "ask(\"What are common loan amounts for applicants with high income?\")\n",
    "ask(\"Tell me about applicants who got their loans approved.\")\n",
    "ask(\"Why are some loans rejected?\")\n"
   ],
   "id": "8f2790b88d5ea712",
   "outputs": [
    {
     "data": {
      "text/plain": [
       "<IPython.core.display.Markdown object>"
      ],
      "text/markdown": "**Q:** What are common loan amounts for applicants with high income?\n\n**A:** Error from OpenAI: Error code: 401 - {'error': {'message': 'Incorrect API key provided: a06bc67f********************b4ab. You can find your API key at https://platform.openai.com/account/api-keys.', 'type': 'invalid_request_error', 'param': None, 'code': 'invalid_api_key'}}"
     },
     "metadata": {},
     "output_type": "display_data"
    },
    {
     "data": {
      "text/plain": [
       "<IPython.core.display.Markdown object>"
      ],
      "text/markdown": "**Q:** Tell me about applicants who got their loans approved.\n\n**A:** Error from OpenAI: Error code: 401 - {'error': {'message': 'Incorrect API key provided: a06bc67f********************b4ab. You can find your API key at https://platform.openai.com/account/api-keys.', 'type': 'invalid_request_error', 'param': None, 'code': 'invalid_api_key'}}"
     },
     "metadata": {},
     "output_type": "display_data"
    },
    {
     "data": {
      "text/plain": [
       "<IPython.core.display.Markdown object>"
      ],
      "text/markdown": "**Q:** Why are some loans rejected?\n\n**A:** Error from OpenAI: Error code: 401 - {'error': {'message': 'Incorrect API key provided: a06bc67f********************b4ab. You can find your API key at https://platform.openai.com/account/api-keys.', 'type': 'invalid_request_error', 'param': None, 'code': 'invalid_api_key'}}"
     },
     "metadata": {},
     "output_type": "display_data"
    }
   ],
   "execution_count": 42
  }
 ],
 "metadata": {
  "kernelspec": {
   "display_name": "Python 3",
   "language": "python",
   "name": "python3"
  },
  "language_info": {
   "codemirror_mode": {
    "name": "ipython",
    "version": 2
   },
   "file_extension": ".py",
   "mimetype": "text/x-python",
   "name": "python",
   "nbconvert_exporter": "python",
   "pygments_lexer": "ipython2",
   "version": "2.7.6"
  }
 },
 "nbformat": 4,
 "nbformat_minor": 5
}
